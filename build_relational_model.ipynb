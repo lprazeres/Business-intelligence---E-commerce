{
 "cells": [
  {
   "cell_type": "code",
   "execution_count": 2,
   "id": "3411f680",
   "metadata": {},
   "outputs": [],
   "source": [
    "import sqlite3\n",
    "import pandas as pd"
   ]
  },
  {
   "cell_type": "code",
   "execution_count": 7,
   "id": "644bea26",
   "metadata": {},
   "outputs": [],
   "source": [
    "conn = sqlite3.connect('../db/olist_ecommerce.db')"
   ]
  },
  {
   "cell_type": "code",
   "execution_count": null,
   "id": "2da0c5d2",
   "metadata": {},
   "outputs": [
    {
     "data": {
      "text/plain": [
       "71"
      ]
     },
     "execution_count": 8,
     "metadata": {},
     "output_type": "execute_result"
    }
   ],
   "source": [
    "df_customers_dataset = pd.read_csv('../data/ready/df_customers_dataset.csv')\n",
    "df_customers_dataset.to_sql('df_customers_dataset', conn, index=False, if_exists='replace')\n",
    "\n",
    "df_geolocation_dataset = pd.read_csv('../data/ready/df_geolocation_dataset.csv')\n",
    "df_geolocation_dataset.to_sql('df_geolocation_dataset', conn, index=False, if_exists='replace')\n",
    "\n",
    "df_olist_order_payments_dataset = pd.read_csv('../data/ready/df_olist_order_payments_dataset.csv')\n",
    "df_olist_order_payments_dataset.to_sql('df_olist_order_payments_dataset', conn, index=False, if_exists='replace')\n",
    "\n",
    "df_olist_order_reviews_dataset = pd.read_csv('../data/ready/df_olist_order_reviews_dataset.csv')\n",
    "df_olist_order_reviews_dataset.to_sql('df_olist_order_reviews_dataset', conn, index=False, if_exists='replace')\n",
    "\n",
    "df_olist_orders_dataset = pd.read_csv('../data/ready/df_olist_orders_dataset.csv')\n",
    "df_olist_orders_dataset.to_sql('df_olist_orders_dataset', conn, index=False, if_exists='replace')\n",
    "\n",
    "df_olist_products_dataset = pd.read_csv('../data/ready/df_olist_products_dataset.csv')\n",
    "df_olist_products_dataset.to_sql('df_olist_products_dataset', conn, index=False, if_exists='replace')\n",
    "\n",
    "df_olist_sellers_dataset = pd.read_csv('../data/ready/df_olist_sellers_dataset.csv')\n",
    "df_olist_sellers_dataset.to_sql('df_olist_sellers_dataset', conn, index=False, if_exists='replace')\n",
    "\n",
    "df_order_items_com_datas = pd.read_csv('../data/ready/df_order_items_com_datas.csv')\n",
    "df_order_items_com_datas.to_sql('df_order_items_com_datas', conn, index=False, if_exists='replace')\n",
    "\n",
    "df_product_category_name_translation = pd.read_csv('../data/ready/df_product_category_name_translation.csv')\n",
    "df_product_category_name_translation.to_sql('df_product_category_name_translation', conn, index=False, if_exists='replace')\n",
    "\n",
    "\n",
    "\n",
    "\n"
   ]
  },
  {
   "cell_type": "code",
   "execution_count": 10,
   "id": "5362fd52",
   "metadata": {},
   "outputs": [],
   "source": [
    "conn.close()"
   ]
  },
  {
   "cell_type": "markdown",
   "id": "4320585a",
   "metadata": {},
   "source": [
    "## Relacionamento entre tabelas principais\n",
    "\n",
    "- `orders` se relaciona com:\n",
    "  - `customers` via `customer_id`\n",
    "  - `order_items` via `order_id`\n",
    "  - `order_payments` via `order_id`\n",
    "  - `order_reviews` via `order_id`\n",
    "\n",
    "- `order_items` se relaciona com:\n",
    "  - `products` via `product_id`\n",
    "  - `sellers` via `seller_id`\n",
    "\n",
    "- `products` se relaciona com:\n",
    "  - `product_category_name_translation` via `product_category_name`\n",
    "\n",
    "- `customers` pode ser agrupado por `customer_state` para análises geográficas\n",
    "\n",
    "- `geolocation` pode ser usado via `zip_code_prefix`, mas não tem chave explícita"
   ]
  }
 ],
 "metadata": {
  "kernelspec": {
   "display_name": "Python 3",
   "language": "python",
   "name": "python3"
  },
  "language_info": {
   "codemirror_mode": {
    "name": "ipython",
    "version": 3
   },
   "file_extension": ".py",
   "mimetype": "text/x-python",
   "name": "python",
   "nbconvert_exporter": "python",
   "pygments_lexer": "ipython3",
   "version": "3.13.2"
  }
 },
 "nbformat": 4,
 "nbformat_minor": 5
}
