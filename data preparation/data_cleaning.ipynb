{
 "cells": [
  {
   "cell_type": "code",
   "execution_count": 1,
   "id": "30f3521d",
   "metadata": {},
   "outputs": [],
   "source": [
    "import pandas as pd\n",
    "import os\n",
    "import re\n",
    "import numpy as np"
   ]
  },
  {
   "cell_type": "markdown",
   "id": "12024f6a",
   "metadata": {},
   "source": [
    "1. Cleaning the table olist_customers_dataset\n",
    "1.1 Checking general status\n",
    "1.2 Checking null values\n",
    "1.3 Checking if the Primary Key is duplicated"
   ]
  },
  {
   "cell_type": "code",
   "execution_count": 2,
   "id": "50b81e33",
   "metadata": {},
   "outputs": [],
   "source": [
    "raw_path = '../../data/raw/'\n",
    "df_customers_dataset = pd.read_csv(os.path.join(raw_path, 'olist_customers_dataset.csv'))"
   ]
  },
  {
   "cell_type": "code",
   "execution_count": 3,
   "id": "0ebc3817",
   "metadata": {},
   "outputs": [
    {
     "name": "stdout",
     "output_type": "stream",
     "text": [
      "<class 'pandas.core.frame.DataFrame'>\n",
      "RangeIndex: 99441 entries, 0 to 99440\n",
      "Data columns (total 5 columns):\n",
      " #   Column                    Non-Null Count  Dtype \n",
      "---  ------                    --------------  ----- \n",
      " 0   customer_id               99441 non-null  object\n",
      " 1   customer_unique_id        99441 non-null  object\n",
      " 2   customer_zip_code_prefix  99441 non-null  int64 \n",
      " 3   customer_city             99441 non-null  object\n",
      " 4   customer_state            99441 non-null  object\n",
      "dtypes: int64(1), object(4)\n",
      "memory usage: 3.8+ MB\n"
     ]
    }
   ],
   "source": [
    "df_customers_dataset.info()"
   ]
  },
  {
   "cell_type": "code",
   "execution_count": 4,
   "id": "2770205e",
   "metadata": {},
   "outputs": [
    {
     "data": {
      "text/plain": [
       "customer_id                 0\n",
       "customer_unique_id          0\n",
       "customer_zip_code_prefix    0\n",
       "customer_city               0\n",
       "customer_state              0\n",
       "dtype: int64"
      ]
     },
     "execution_count": 4,
     "metadata": {},
     "output_type": "execute_result"
    }
   ],
   "source": [
    "df_customers_dataset.isnull().sum()"
   ]
  },
  {
   "cell_type": "code",
   "execution_count": 5,
   "id": "4a8ba3a4",
   "metadata": {},
   "outputs": [
    {
     "data": {
      "text/plain": [
       "customer_id                 99441\n",
       "customer_unique_id          96096\n",
       "customer_zip_code_prefix    14994\n",
       "customer_city                4119\n",
       "customer_state                 27\n",
       "dtype: int64"
      ]
     },
     "execution_count": 5,
     "metadata": {},
     "output_type": "execute_result"
    }
   ],
   "source": [
    "df_customers_dataset.nunique()"
   ]
  },
  {
   "cell_type": "code",
   "execution_count": null,
   "id": "c3b0fa25",
   "metadata": {},
   "outputs": [
    {
     "data": {
      "text/html": [
       "<div>\n",
       "<style scoped>\n",
       "    .dataframe tbody tr th:only-of-type {\n",
       "        vertical-align: middle;\n",
       "    }\n",
       "\n",
       "    .dataframe tbody tr th {\n",
       "        vertical-align: top;\n",
       "    }\n",
       "\n",
       "    .dataframe thead th {\n",
       "        text-align: right;\n",
       "    }\n",
       "</style>\n",
       "<table border=\"1\" class=\"dataframe\">\n",
       "  <thead>\n",
       "    <tr style=\"text-align: right;\">\n",
       "      <th></th>\n",
       "      <th>customer_id</th>\n",
       "      <th>customer_unique_id</th>\n",
       "      <th>customer_zip_code_prefix</th>\n",
       "      <th>customer_city</th>\n",
       "      <th>customer_state</th>\n",
       "    </tr>\n",
       "  </thead>\n",
       "  <tbody>\n",
       "  </tbody>\n",
       "</table>\n",
       "</div>"
      ],
      "text/plain": [
       "Empty DataFrame\n",
       "Columns: [customer_id, customer_unique_id, customer_zip_code_prefix, customer_city, customer_state]\n",
       "Index: []"
      ]
     },
     "execution_count": 6,
     "metadata": {},
     "output_type": "execute_result"
    }
   ],
   "source": [
    "df_customers_dataset[df_customers_dataset.duplicated(subset=['customer_id'], keep=False)]"
   ]
  },
  {
   "cell_type": "code",
   "execution_count": 61,
   "id": "53384263",
   "metadata": {},
   "outputs": [],
   "source": [
    "output_path_ready = '../../data/ready/df_customers_dataset.csv'\n",
    "df_customers_dataset.to_csv(output_path_ready, index=False)"
   ]
  },
  {
   "cell_type": "markdown",
   "id": "60e4faab",
   "metadata": {},
   "source": [
    "2. Cleaning the table olist_geolocation_dataset\n",
    "2.1 Checking general status\n",
    "2.2 Checking null values\n",
    "2.3 Checking if the Primary Key is duplicated"
   ]
  },
  {
   "cell_type": "code",
   "execution_count": 7,
   "id": "3c9b3e6a",
   "metadata": {},
   "outputs": [],
   "source": [
    "raw_path = '../../data/raw/'\n",
    "df_geolocation_dataset = pd.read_csv(os.path.join(raw_path, 'olist_geolocation_dataset.csv'))"
   ]
  },
  {
   "cell_type": "code",
   "execution_count": 8,
   "id": "932a9509",
   "metadata": {},
   "outputs": [
    {
     "name": "stdout",
     "output_type": "stream",
     "text": [
      "<class 'pandas.core.frame.DataFrame'>\n",
      "RangeIndex: 1000163 entries, 0 to 1000162\n",
      "Data columns (total 5 columns):\n",
      " #   Column                       Non-Null Count    Dtype  \n",
      "---  ------                       --------------    -----  \n",
      " 0   geolocation_zip_code_prefix  1000163 non-null  int64  \n",
      " 1   geolocation_lat              1000163 non-null  float64\n",
      " 2   geolocation_lng              1000163 non-null  float64\n",
      " 3   geolocation_city             1000163 non-null  object \n",
      " 4   geolocation_state            1000163 non-null  object \n",
      "dtypes: float64(2), int64(1), object(2)\n",
      "memory usage: 38.2+ MB\n"
     ]
    }
   ],
   "source": [
    "df_geolocation_dataset.info()"
   ]
  },
  {
   "cell_type": "code",
   "execution_count": 9,
   "id": "8a68d39d",
   "metadata": {},
   "outputs": [
    {
     "data": {
      "text/plain": [
       "geolocation_zip_code_prefix    0\n",
       "geolocation_lat                0\n",
       "geolocation_lng                0\n",
       "geolocation_city               0\n",
       "geolocation_state              0\n",
       "dtype: int64"
      ]
     },
     "execution_count": 9,
     "metadata": {},
     "output_type": "execute_result"
    }
   ],
   "source": [
    "df_geolocation_dataset.isnull().sum()"
   ]
  },
  {
   "cell_type": "code",
   "execution_count": 10,
   "id": "05c45eab",
   "metadata": {},
   "outputs": [
    {
     "data": {
      "text/plain": [
       "geolocation_zip_code_prefix     19015\n",
       "geolocation_lat                717360\n",
       "geolocation_lng                717613\n",
       "geolocation_city                 8011\n",
       "geolocation_state                  27\n",
       "dtype: int64"
      ]
     },
     "execution_count": 10,
     "metadata": {},
     "output_type": "execute_result"
    }
   ],
   "source": [
    "df_geolocation_dataset.nunique()"
   ]
  },
  {
   "cell_type": "code",
   "execution_count": 62,
   "id": "407221a2",
   "metadata": {},
   "outputs": [],
   "source": [
    "output_path_ready = '../../data/ready/df_geolocation_dataset.csv'\n",
    "df_geolocation_dataset.to_csv(output_path_ready, index=False)"
   ]
  },
  {
   "cell_type": "markdown",
   "id": "c2b491d7",
   "metadata": {},
   "source": [
    "3. Cleaning the table olist_order_items_dataset\n",
    "3.1 Checking general status\n",
    "3.2 Checking null values\n",
    "3.3 Checking if the Primary Key is duplicated\n",
    "3.4 Export the new table"
   ]
  },
  {
   "cell_type": "code",
   "execution_count": 11,
   "id": "b6f81bb7",
   "metadata": {},
   "outputs": [],
   "source": [
    "raw_path = '../../data/raw/'\n",
    "df_order_items_dataset = pd.read_csv(os.path.join(raw_path, 'olist_order_items_dataset.csv'))"
   ]
  },
  {
   "cell_type": "code",
   "execution_count": 12,
   "id": "5145edab",
   "metadata": {},
   "outputs": [
    {
     "name": "stdout",
     "output_type": "stream",
     "text": [
      "<class 'pandas.core.frame.DataFrame'>\n",
      "RangeIndex: 112650 entries, 0 to 112649\n",
      "Data columns (total 7 columns):\n",
      " #   Column               Non-Null Count   Dtype  \n",
      "---  ------               --------------   -----  \n",
      " 0   order_id             112650 non-null  object \n",
      " 1   order_item_id        112650 non-null  int64  \n",
      " 2   product_id           112650 non-null  object \n",
      " 3   seller_id            112650 non-null  object \n",
      " 4   shipping_limit_date  112650 non-null  object \n",
      " 5   price                112650 non-null  float64\n",
      " 6   freight_value        112650 non-null  float64\n",
      "dtypes: float64(2), int64(1), object(4)\n",
      "memory usage: 6.0+ MB\n"
     ]
    }
   ],
   "source": [
    "df_order_items_dataset.info()"
   ]
  },
  {
   "cell_type": "code",
   "execution_count": 13,
   "id": "0efa897d",
   "metadata": {},
   "outputs": [],
   "source": [
    "df_order_items_dataset['shipping_limit_date'] = pd.to_datetime(df_order_items_dataset['shipping_limit_date'])"
   ]
  },
  {
   "cell_type": "code",
   "execution_count": 14,
   "id": "95f7c704",
   "metadata": {},
   "outputs": [
    {
     "name": "stdout",
     "output_type": "stream",
     "text": [
      "<class 'pandas.core.frame.DataFrame'>\n",
      "RangeIndex: 112650 entries, 0 to 112649\n",
      "Data columns (total 7 columns):\n",
      " #   Column               Non-Null Count   Dtype         \n",
      "---  ------               --------------   -----         \n",
      " 0   order_id             112650 non-null  object        \n",
      " 1   order_item_id        112650 non-null  int64         \n",
      " 2   product_id           112650 non-null  object        \n",
      " 3   seller_id            112650 non-null  object        \n",
      " 4   shipping_limit_date  112650 non-null  datetime64[ns]\n",
      " 5   price                112650 non-null  float64       \n",
      " 6   freight_value        112650 non-null  float64       \n",
      "dtypes: datetime64[ns](1), float64(2), int64(1), object(3)\n",
      "memory usage: 6.0+ MB\n"
     ]
    }
   ],
   "source": [
    "df_order_items_dataset.info()"
   ]
  },
  {
   "cell_type": "code",
   "execution_count": 15,
   "id": "3838ca67",
   "metadata": {},
   "outputs": [
    {
     "data": {
      "text/plain": [
       "order_id               0\n",
       "order_item_id          0\n",
       "product_id             0\n",
       "seller_id              0\n",
       "shipping_limit_date    0\n",
       "price                  0\n",
       "freight_value          0\n",
       "dtype: int64"
      ]
     },
     "execution_count": 15,
     "metadata": {},
     "output_type": "execute_result"
    }
   ],
   "source": [
    "df_order_items_dataset.isnull().sum()"
   ]
  },
  {
   "cell_type": "code",
   "execution_count": 16,
   "id": "59b1e52c",
   "metadata": {},
   "outputs": [
    {
     "data": {
      "text/plain": [
       "order_id               98666\n",
       "order_item_id             21\n",
       "product_id             32951\n",
       "seller_id               3095\n",
       "shipping_limit_date    93318\n",
       "price                   5968\n",
       "freight_value           6999\n",
       "dtype: int64"
      ]
     },
     "execution_count": 16,
     "metadata": {},
     "output_type": "execute_result"
    }
   ],
   "source": [
    "df_order_items_dataset.nunique()"
   ]
  },
  {
   "cell_type": "code",
   "execution_count": 76,
   "id": "a3acbab2",
   "metadata": {},
   "outputs": [],
   "source": [
    "output_path = '../../data/processed/df_order_items_com_datas.csv'\n",
    "df_order_items_dataset.to_csv(output_path, index=False)"
   ]
  },
  {
   "cell_type": "code",
   "execution_count": 63,
   "id": "1c813894",
   "metadata": {},
   "outputs": [],
   "source": [
    "output_path_ready = '../../data/ready/df_order_items_com_datas.csv'\n",
    "df_order_items_dataset.to_csv(output_path_ready, index=False)"
   ]
  },
  {
   "cell_type": "markdown",
   "id": "0e42bc83",
   "metadata": {},
   "source": [
    "4. Cleaning the table olist_order_payments_dataset\n",
    "4.1 Checking general status\n",
    "4.2 Checking null values\n",
    "4.3 Checking if the Primary Key is duplicated\n",
    "4.4 Export the new table"
   ]
  },
  {
   "cell_type": "code",
   "execution_count": 17,
   "id": "0541de87",
   "metadata": {},
   "outputs": [],
   "source": [
    "raw_path = '../../data/raw/'\n",
    "df_olist_order_payments_dataset = pd.read_csv(os.path.join(raw_path, 'olist_order_payments_dataset.csv'))"
   ]
  },
  {
   "cell_type": "code",
   "execution_count": 18,
   "id": "dbe2b1e5",
   "metadata": {},
   "outputs": [
    {
     "name": "stdout",
     "output_type": "stream",
     "text": [
      "<class 'pandas.core.frame.DataFrame'>\n",
      "RangeIndex: 103886 entries, 0 to 103885\n",
      "Data columns (total 5 columns):\n",
      " #   Column                Non-Null Count   Dtype  \n",
      "---  ------                --------------   -----  \n",
      " 0   order_id              103886 non-null  object \n",
      " 1   payment_sequential    103886 non-null  int64  \n",
      " 2   payment_type          103886 non-null  object \n",
      " 3   payment_installments  103886 non-null  int64  \n",
      " 4   payment_value         103886 non-null  float64\n",
      "dtypes: float64(1), int64(2), object(2)\n",
      "memory usage: 4.0+ MB\n"
     ]
    }
   ],
   "source": [
    "df_olist_order_payments_dataset.info()"
   ]
  },
  {
   "cell_type": "code",
   "execution_count": 19,
   "id": "acaac419",
   "metadata": {},
   "outputs": [
    {
     "data": {
      "text/plain": [
       "order_id                0\n",
       "payment_sequential      0\n",
       "payment_type            0\n",
       "payment_installments    0\n",
       "payment_value           0\n",
       "dtype: int64"
      ]
     },
     "execution_count": 19,
     "metadata": {},
     "output_type": "execute_result"
    }
   ],
   "source": [
    "df_olist_order_payments_dataset.isnull().sum()"
   ]
  },
  {
   "cell_type": "code",
   "execution_count": 20,
   "id": "4e64b7a8",
   "metadata": {},
   "outputs": [
    {
     "data": {
      "text/plain": [
       "order_id                99440\n",
       "payment_sequential         29\n",
       "payment_type                5\n",
       "payment_installments       24\n",
       "payment_value           29077\n",
       "dtype: int64"
      ]
     },
     "execution_count": 20,
     "metadata": {},
     "output_type": "execute_result"
    }
   ],
   "source": [
    "df_olist_order_payments_dataset.nunique()"
   ]
  },
  {
   "cell_type": "code",
   "execution_count": 21,
   "id": "9c1b547f",
   "metadata": {},
   "outputs": [
    {
     "data": {
      "text/html": [
       "<div>\n",
       "<style scoped>\n",
       "    .dataframe tbody tr th:only-of-type {\n",
       "        vertical-align: middle;\n",
       "    }\n",
       "\n",
       "    .dataframe tbody tr th {\n",
       "        vertical-align: top;\n",
       "    }\n",
       "\n",
       "    .dataframe thead th {\n",
       "        text-align: right;\n",
       "    }\n",
       "</style>\n",
       "<table border=\"1\" class=\"dataframe\">\n",
       "  <thead>\n",
       "    <tr style=\"text-align: right;\">\n",
       "      <th></th>\n",
       "      <th>order_id</th>\n",
       "      <th>payment_sequential</th>\n",
       "      <th>payment_type</th>\n",
       "      <th>payment_installments</th>\n",
       "      <th>payment_value</th>\n",
       "    </tr>\n",
       "  </thead>\n",
       "  <tbody>\n",
       "  </tbody>\n",
       "</table>\n",
       "</div>"
      ],
      "text/plain": [
       "Empty DataFrame\n",
       "Columns: [order_id, payment_sequential, payment_type, payment_installments, payment_value]\n",
       "Index: []"
      ]
     },
     "execution_count": 21,
     "metadata": {},
     "output_type": "execute_result"
    }
   ],
   "source": [
    "df_olist_order_payments_dataset[df_olist_order_payments_dataset.duplicated(subset=['order_id', 'payment_sequential'], keep=False)]"
   ]
  },
  {
   "cell_type": "code",
   "execution_count": 64,
   "id": "26465c71",
   "metadata": {},
   "outputs": [],
   "source": [
    "output_path_ready = '../../data/ready/df_olist_order_payments_dataset.csv'\n",
    "df_olist_order_payments_dataset.to_csv(output_path_ready, index=False)"
   ]
  },
  {
   "cell_type": "markdown",
   "id": "0b558152",
   "metadata": {},
   "source": [
    "5. Cleaning the table olist_order_reviews_dataset\n",
    "5.1 Checking general status\n",
    "5.2 Checking null values\n",
    "5.3 Checking if the Primary Key is duplicated\n",
    "5.4 Export the new table"
   ]
  },
  {
   "cell_type": "code",
   "execution_count": 22,
   "id": "5c5291d1",
   "metadata": {},
   "outputs": [],
   "source": [
    "raw_path = '../../data/raw/'\n",
    "df_olist_order_reviews_dataset = pd.read_csv(os.path.join(raw_path, 'olist_order_reviews_dataset.csv'))"
   ]
  },
  {
   "cell_type": "code",
   "execution_count": 23,
   "id": "711aa742",
   "metadata": {},
   "outputs": [
    {
     "name": "stdout",
     "output_type": "stream",
     "text": [
      "<class 'pandas.core.frame.DataFrame'>\n",
      "RangeIndex: 99224 entries, 0 to 99223\n",
      "Data columns (total 7 columns):\n",
      " #   Column                   Non-Null Count  Dtype \n",
      "---  ------                   --------------  ----- \n",
      " 0   review_id                99224 non-null  object\n",
      " 1   order_id                 99224 non-null  object\n",
      " 2   review_score             99224 non-null  int64 \n",
      " 3   review_comment_title     11568 non-null  object\n",
      " 4   review_comment_message   40977 non-null  object\n",
      " 5   review_creation_date     99224 non-null  object\n",
      " 6   review_answer_timestamp  99224 non-null  object\n",
      "dtypes: int64(1), object(6)\n",
      "memory usage: 5.3+ MB\n"
     ]
    }
   ],
   "source": [
    "df_olist_order_reviews_dataset.info()"
   ]
  },
  {
   "cell_type": "code",
   "execution_count": 24,
   "id": "81dd1fe7",
   "metadata": {},
   "outputs": [
    {
     "data": {
      "text/plain": [
       "review_id                      0\n",
       "order_id                       0\n",
       "review_score                   0\n",
       "review_comment_title       87656\n",
       "review_comment_message     58247\n",
       "review_creation_date           0\n",
       "review_answer_timestamp        0\n",
       "dtype: int64"
      ]
     },
     "execution_count": 24,
     "metadata": {},
     "output_type": "execute_result"
    }
   ],
   "source": [
    "df_olist_order_reviews_dataset.isnull().sum()"
   ]
  },
  {
   "cell_type": "code",
   "execution_count": 25,
   "id": "81d3f7c3",
   "metadata": {},
   "outputs": [
    {
     "name": "stderr",
     "output_type": "stream",
     "text": [
      "C:\\Users\\lpraz\\AppData\\Local\\Temp\\ipykernel_3640\\1108133142.py:1: FutureWarning: A value is trying to be set on a copy of a DataFrame or Series through chained assignment using an inplace method.\n",
      "The behavior will change in pandas 3.0. This inplace method will never work because the intermediate object on which we are setting values always behaves as a copy.\n",
      "\n",
      "For example, when doing 'df[col].method(value, inplace=True)', try using 'df.method({col: value}, inplace=True)' or df[col] = df[col].method(value) instead, to perform the operation inplace on the original object.\n",
      "\n",
      "\n",
      "  df_olist_order_reviews_dataset['review_comment_title'].fillna('Empty', inplace=True)\n",
      "C:\\Users\\lpraz\\AppData\\Local\\Temp\\ipykernel_3640\\1108133142.py:2: FutureWarning: A value is trying to be set on a copy of a DataFrame or Series through chained assignment using an inplace method.\n",
      "The behavior will change in pandas 3.0. This inplace method will never work because the intermediate object on which we are setting values always behaves as a copy.\n",
      "\n",
      "For example, when doing 'df[col].method(value, inplace=True)', try using 'df.method({col: value}, inplace=True)' or df[col] = df[col].method(value) instead, to perform the operation inplace on the original object.\n",
      "\n",
      "\n",
      "  df_olist_order_reviews_dataset['review_comment_message'].fillna('Empty', inplace=True)\n"
     ]
    }
   ],
   "source": [
    "df_olist_order_reviews_dataset['review_comment_title'].fillna('Empty', inplace=True)\n",
    "df_olist_order_reviews_dataset['review_comment_message'].fillna('Empty', inplace=True)"
   ]
  },
  {
   "cell_type": "code",
   "execution_count": 26,
   "id": "314f9e72",
   "metadata": {},
   "outputs": [
    {
     "data": {
      "text/plain": [
       "review_id                  0\n",
       "order_id                   0\n",
       "review_score               0\n",
       "review_comment_title       0\n",
       "review_comment_message     0\n",
       "review_creation_date       0\n",
       "review_answer_timestamp    0\n",
       "dtype: int64"
      ]
     },
     "execution_count": 26,
     "metadata": {},
     "output_type": "execute_result"
    }
   ],
   "source": [
    "df_olist_order_reviews_dataset.isnull().sum()"
   ]
  },
  {
   "cell_type": "code",
   "execution_count": 27,
   "id": "f8a4d9f1",
   "metadata": {},
   "outputs": [
    {
     "data": {
      "text/html": [
       "<div>\n",
       "<style scoped>\n",
       "    .dataframe tbody tr th:only-of-type {\n",
       "        vertical-align: middle;\n",
       "    }\n",
       "\n",
       "    .dataframe tbody tr th {\n",
       "        vertical-align: top;\n",
       "    }\n",
       "\n",
       "    .dataframe thead th {\n",
       "        text-align: right;\n",
       "    }\n",
       "</style>\n",
       "<table border=\"1\" class=\"dataframe\">\n",
       "  <thead>\n",
       "    <tr style=\"text-align: right;\">\n",
       "      <th></th>\n",
       "      <th>review_id</th>\n",
       "      <th>order_id</th>\n",
       "      <th>review_score</th>\n",
       "      <th>review_comment_title</th>\n",
       "      <th>review_comment_message</th>\n",
       "      <th>review_creation_date</th>\n",
       "      <th>review_answer_timestamp</th>\n",
       "    </tr>\n",
       "  </thead>\n",
       "  <tbody>\n",
       "    <tr>\n",
       "      <th>0</th>\n",
       "      <td>7bc2406110b926393aa56f80a40eba40</td>\n",
       "      <td>73fc7af87114b39712e6da79b0a377eb</td>\n",
       "      <td>4</td>\n",
       "      <td>Empty</td>\n",
       "      <td>Empty</td>\n",
       "      <td>2018-01-18 00:00:00</td>\n",
       "      <td>2018-01-18 21:46:59</td>\n",
       "    </tr>\n",
       "    <tr>\n",
       "      <th>1</th>\n",
       "      <td>80e641a11e56f04c1ad469d5645fdfde</td>\n",
       "      <td>a548910a1c6147796b98fdf73dbeba33</td>\n",
       "      <td>5</td>\n",
       "      <td>Empty</td>\n",
       "      <td>Empty</td>\n",
       "      <td>2018-03-10 00:00:00</td>\n",
       "      <td>2018-03-11 03:05:13</td>\n",
       "    </tr>\n",
       "    <tr>\n",
       "      <th>2</th>\n",
       "      <td>228ce5500dc1d8e020d8d1322874b6f0</td>\n",
       "      <td>f9e4b658b201a9f2ecdecbb34bed034b</td>\n",
       "      <td>5</td>\n",
       "      <td>Empty</td>\n",
       "      <td>Empty</td>\n",
       "      <td>2018-02-17 00:00:00</td>\n",
       "      <td>2018-02-18 14:36:24</td>\n",
       "    </tr>\n",
       "    <tr>\n",
       "      <th>3</th>\n",
       "      <td>e64fb393e7b32834bb789ff8bb30750e</td>\n",
       "      <td>658677c97b385a9be170737859d3511b</td>\n",
       "      <td>5</td>\n",
       "      <td>Empty</td>\n",
       "      <td>Recebi bem antes do prazo estipulado.</td>\n",
       "      <td>2017-04-21 00:00:00</td>\n",
       "      <td>2017-04-21 22:02:06</td>\n",
       "    </tr>\n",
       "    <tr>\n",
       "      <th>4</th>\n",
       "      <td>f7c4243c7fe1938f181bec41a392bdeb</td>\n",
       "      <td>8e6bfb81e283fa7e4f11123a3fb894f1</td>\n",
       "      <td>5</td>\n",
       "      <td>Empty</td>\n",
       "      <td>Parabéns lojas lannister adorei comprar pela I...</td>\n",
       "      <td>2018-03-01 00:00:00</td>\n",
       "      <td>2018-03-02 10:26:53</td>\n",
       "    </tr>\n",
       "    <tr>\n",
       "      <th>5</th>\n",
       "      <td>15197aa66ff4d0650b5434f1b46cda19</td>\n",
       "      <td>b18dcdf73be66366873cd26c5724d1dc</td>\n",
       "      <td>1</td>\n",
       "      <td>Empty</td>\n",
       "      <td>Empty</td>\n",
       "      <td>2018-04-13 00:00:00</td>\n",
       "      <td>2018-04-16 00:39:37</td>\n",
       "    </tr>\n",
       "    <tr>\n",
       "      <th>6</th>\n",
       "      <td>07f9bee5d1b850860defd761afa7ff16</td>\n",
       "      <td>e48aa0d2dcec3a2e87348811bcfdf22b</td>\n",
       "      <td>5</td>\n",
       "      <td>Empty</td>\n",
       "      <td>Empty</td>\n",
       "      <td>2017-07-16 00:00:00</td>\n",
       "      <td>2017-07-18 19:30:34</td>\n",
       "    </tr>\n",
       "    <tr>\n",
       "      <th>7</th>\n",
       "      <td>7c6400515c67679fbee952a7525281ef</td>\n",
       "      <td>c31a859e34e3adac22f376954e19b39d</td>\n",
       "      <td>5</td>\n",
       "      <td>Empty</td>\n",
       "      <td>Empty</td>\n",
       "      <td>2018-08-14 00:00:00</td>\n",
       "      <td>2018-08-14 21:36:06</td>\n",
       "    </tr>\n",
       "    <tr>\n",
       "      <th>8</th>\n",
       "      <td>a3f6f7f6f433de0aefbb97da197c554c</td>\n",
       "      <td>9c214ac970e84273583ab523dfafd09b</td>\n",
       "      <td>5</td>\n",
       "      <td>Empty</td>\n",
       "      <td>Empty</td>\n",
       "      <td>2017-05-17 00:00:00</td>\n",
       "      <td>2017-05-18 12:05:37</td>\n",
       "    </tr>\n",
       "    <tr>\n",
       "      <th>9</th>\n",
       "      <td>8670d52e15e00043ae7de4c01cc2fe06</td>\n",
       "      <td>b9bf720beb4ab3728760088589c62129</td>\n",
       "      <td>4</td>\n",
       "      <td>recomendo</td>\n",
       "      <td>aparelho eficiente. no site a marca do aparelh...</td>\n",
       "      <td>2018-05-22 00:00:00</td>\n",
       "      <td>2018-05-23 16:45:47</td>\n",
       "    </tr>\n",
       "    <tr>\n",
       "      <th>10</th>\n",
       "      <td>c9cfd2d5ab5911836ababae136c3a10c</td>\n",
       "      <td>cdf9aa68e72324eeb25c7de974696ee2</td>\n",
       "      <td>5</td>\n",
       "      <td>Empty</td>\n",
       "      <td>Empty</td>\n",
       "      <td>2017-12-23 00:00:00</td>\n",
       "      <td>2017-12-26 14:36:03</td>\n",
       "    </tr>\n",
       "    <tr>\n",
       "      <th>11</th>\n",
       "      <td>96052551d87e5f62e6c9f6974ec392e9</td>\n",
       "      <td>3d374c9e46530bb5ed4a7648915306a6</td>\n",
       "      <td>5</td>\n",
       "      <td>Empty</td>\n",
       "      <td>Empty</td>\n",
       "      <td>2017-12-19 00:00:00</td>\n",
       "      <td>2017-12-20 10:25:22</td>\n",
       "    </tr>\n",
       "    <tr>\n",
       "      <th>12</th>\n",
       "      <td>4b49719c8a200003f700d3d986ea1a19</td>\n",
       "      <td>9d6f15f95d01e79bd1349cc208361f09</td>\n",
       "      <td>4</td>\n",
       "      <td>Empty</td>\n",
       "      <td>Mas um pouco ,travando...pelo valor ta Boa.\\r\\n</td>\n",
       "      <td>2018-02-16 00:00:00</td>\n",
       "      <td>2018-02-20 10:52:22</td>\n",
       "    </tr>\n",
       "    <tr>\n",
       "      <th>13</th>\n",
       "      <td>23f75a37effc35d9a915b4e1ad483793</td>\n",
       "      <td>2eaf8e099d871cd5c22b83b5ea8f6e0e</td>\n",
       "      <td>4</td>\n",
       "      <td>Empty</td>\n",
       "      <td>Empty</td>\n",
       "      <td>2018-03-28 00:00:00</td>\n",
       "      <td>2018-03-30 15:10:55</td>\n",
       "    </tr>\n",
       "    <tr>\n",
       "      <th>14</th>\n",
       "      <td>9a0abbb668bafb95a6d2b05db43284c4</td>\n",
       "      <td>d7bd0e4afdf94846eb73642b4e3e75c3</td>\n",
       "      <td>3</td>\n",
       "      <td>Empty</td>\n",
       "      <td>Empty</td>\n",
       "      <td>2017-04-30 00:00:00</td>\n",
       "      <td>2017-05-03 00:02:22</td>\n",
       "    </tr>\n",
       "  </tbody>\n",
       "</table>\n",
       "</div>"
      ],
      "text/plain": [
       "                           review_id                          order_id  \\\n",
       "0   7bc2406110b926393aa56f80a40eba40  73fc7af87114b39712e6da79b0a377eb   \n",
       "1   80e641a11e56f04c1ad469d5645fdfde  a548910a1c6147796b98fdf73dbeba33   \n",
       "2   228ce5500dc1d8e020d8d1322874b6f0  f9e4b658b201a9f2ecdecbb34bed034b   \n",
       "3   e64fb393e7b32834bb789ff8bb30750e  658677c97b385a9be170737859d3511b   \n",
       "4   f7c4243c7fe1938f181bec41a392bdeb  8e6bfb81e283fa7e4f11123a3fb894f1   \n",
       "5   15197aa66ff4d0650b5434f1b46cda19  b18dcdf73be66366873cd26c5724d1dc   \n",
       "6   07f9bee5d1b850860defd761afa7ff16  e48aa0d2dcec3a2e87348811bcfdf22b   \n",
       "7   7c6400515c67679fbee952a7525281ef  c31a859e34e3adac22f376954e19b39d   \n",
       "8   a3f6f7f6f433de0aefbb97da197c554c  9c214ac970e84273583ab523dfafd09b   \n",
       "9   8670d52e15e00043ae7de4c01cc2fe06  b9bf720beb4ab3728760088589c62129   \n",
       "10  c9cfd2d5ab5911836ababae136c3a10c  cdf9aa68e72324eeb25c7de974696ee2   \n",
       "11  96052551d87e5f62e6c9f6974ec392e9  3d374c9e46530bb5ed4a7648915306a6   \n",
       "12  4b49719c8a200003f700d3d986ea1a19  9d6f15f95d01e79bd1349cc208361f09   \n",
       "13  23f75a37effc35d9a915b4e1ad483793  2eaf8e099d871cd5c22b83b5ea8f6e0e   \n",
       "14  9a0abbb668bafb95a6d2b05db43284c4  d7bd0e4afdf94846eb73642b4e3e75c3   \n",
       "\n",
       "    review_score review_comment_title  \\\n",
       "0              4                Empty   \n",
       "1              5                Empty   \n",
       "2              5                Empty   \n",
       "3              5                Empty   \n",
       "4              5                Empty   \n",
       "5              1                Empty   \n",
       "6              5                Empty   \n",
       "7              5                Empty   \n",
       "8              5                Empty   \n",
       "9              4            recomendo   \n",
       "10             5                Empty   \n",
       "11             5                Empty   \n",
       "12             4                Empty   \n",
       "13             4                Empty   \n",
       "14             3                Empty   \n",
       "\n",
       "                               review_comment_message review_creation_date  \\\n",
       "0                                               Empty  2018-01-18 00:00:00   \n",
       "1                                               Empty  2018-03-10 00:00:00   \n",
       "2                                               Empty  2018-02-17 00:00:00   \n",
       "3               Recebi bem antes do prazo estipulado.  2017-04-21 00:00:00   \n",
       "4   Parabéns lojas lannister adorei comprar pela I...  2018-03-01 00:00:00   \n",
       "5                                               Empty  2018-04-13 00:00:00   \n",
       "6                                               Empty  2017-07-16 00:00:00   \n",
       "7                                               Empty  2018-08-14 00:00:00   \n",
       "8                                               Empty  2017-05-17 00:00:00   \n",
       "9   aparelho eficiente. no site a marca do aparelh...  2018-05-22 00:00:00   \n",
       "10                                              Empty  2017-12-23 00:00:00   \n",
       "11                                              Empty  2017-12-19 00:00:00   \n",
       "12    Mas um pouco ,travando...pelo valor ta Boa.\\r\\n  2018-02-16 00:00:00   \n",
       "13                                              Empty  2018-03-28 00:00:00   \n",
       "14                                              Empty  2017-04-30 00:00:00   \n",
       "\n",
       "   review_answer_timestamp  \n",
       "0      2018-01-18 21:46:59  \n",
       "1      2018-03-11 03:05:13  \n",
       "2      2018-02-18 14:36:24  \n",
       "3      2017-04-21 22:02:06  \n",
       "4      2018-03-02 10:26:53  \n",
       "5      2018-04-16 00:39:37  \n",
       "6      2017-07-18 19:30:34  \n",
       "7      2018-08-14 21:36:06  \n",
       "8      2017-05-18 12:05:37  \n",
       "9      2018-05-23 16:45:47  \n",
       "10     2017-12-26 14:36:03  \n",
       "11     2017-12-20 10:25:22  \n",
       "12     2018-02-20 10:52:22  \n",
       "13     2018-03-30 15:10:55  \n",
       "14     2017-05-03 00:02:22  "
      ]
     },
     "execution_count": 27,
     "metadata": {},
     "output_type": "execute_result"
    }
   ],
   "source": [
    "df_olist_order_reviews_dataset.head(15)"
   ]
  },
  {
   "cell_type": "code",
   "execution_count": 28,
   "id": "6d9da3ff",
   "metadata": {},
   "outputs": [],
   "source": [
    "def cleaining_text(text):\n",
    "    text = text.lower()  \n",
    "    text = re.sub(r'[^a-zA-Zà-úÀ-Ú\\s]', '', text) \n",
    "    text = re.sub(r'\\s+', ' ', text).strip() \n",
    "    return text\n"
   ]
  },
  {
   "cell_type": "code",
   "execution_count": 29,
   "id": "83473fa1",
   "metadata": {},
   "outputs": [],
   "source": [
    "df_olist_order_reviews_dataset['review_comment_message'] = df_olist_order_reviews_dataset['review_comment_message'].apply(cleaining_text)\n",
    "df_olist_order_reviews_dataset['review_comment_title'] = df_olist_order_reviews_dataset['review_comment_title'].apply(cleaining_text)"
   ]
  },
  {
   "cell_type": "code",
   "execution_count": 30,
   "id": "43955410",
   "metadata": {},
   "outputs": [
    {
     "data": {
      "text/plain": [
       "review_id                  98410\n",
       "order_id                   98673\n",
       "review_score                   5\n",
       "review_comment_title        3165\n",
       "review_comment_message     33689\n",
       "review_creation_date         636\n",
       "review_answer_timestamp    98248\n",
       "dtype: int64"
      ]
     },
     "execution_count": 30,
     "metadata": {},
     "output_type": "execute_result"
    }
   ],
   "source": [
    "df_olist_order_reviews_dataset.nunique()"
   ]
  },
  {
   "cell_type": "code",
   "execution_count": 31,
   "id": "887cda77",
   "metadata": {},
   "outputs": [
    {
     "data": {
      "text/html": [
       "<div>\n",
       "<style scoped>\n",
       "    .dataframe tbody tr th:only-of-type {\n",
       "        vertical-align: middle;\n",
       "    }\n",
       "\n",
       "    .dataframe tbody tr th {\n",
       "        vertical-align: top;\n",
       "    }\n",
       "\n",
       "    .dataframe thead th {\n",
       "        text-align: right;\n",
       "    }\n",
       "</style>\n",
       "<table border=\"1\" class=\"dataframe\">\n",
       "  <thead>\n",
       "    <tr style=\"text-align: right;\">\n",
       "      <th></th>\n",
       "      <th>review_id</th>\n",
       "      <th>order_id</th>\n",
       "      <th>review_score</th>\n",
       "      <th>review_comment_title</th>\n",
       "      <th>review_comment_message</th>\n",
       "      <th>review_creation_date</th>\n",
       "      <th>review_answer_timestamp</th>\n",
       "    </tr>\n",
       "  </thead>\n",
       "  <tbody>\n",
       "  </tbody>\n",
       "</table>\n",
       "</div>"
      ],
      "text/plain": [
       "Empty DataFrame\n",
       "Columns: [review_id, order_id, review_score, review_comment_title, review_comment_message, review_creation_date, review_answer_timestamp]\n",
       "Index: []"
      ]
     },
     "execution_count": 31,
     "metadata": {},
     "output_type": "execute_result"
    }
   ],
   "source": [
    "df_olist_order_reviews_dataset[df_olist_order_reviews_dataset.duplicated(subset=['order_id', 'review_id'], keep=False)]"
   ]
  },
  {
   "cell_type": "code",
   "execution_count": 49,
   "id": "59a5efa5",
   "metadata": {},
   "outputs": [],
   "source": [
    "output_path = '../../data/processed/df_olist_order_reviews_dataset.csv'\n",
    "df_olist_order_reviews_dataset.to_csv(output_path, index=False)"
   ]
  },
  {
   "cell_type": "code",
   "execution_count": 65,
   "id": "483df687",
   "metadata": {},
   "outputs": [],
   "source": [
    "output_path_ready = '../../data/ready/df_olist_order_reviews_dataset.csv'\n",
    "df_olist_order_reviews_dataset.to_csv(output_path_ready, index=False)"
   ]
  },
  {
   "cell_type": "markdown",
   "id": "0d1bfb9a",
   "metadata": {},
   "source": [
    "6. Cleaning the table olist_orders_dataset\n",
    "6.1 Checking general status, datetime\n",
    "6.2 Checking null values\n",
    "6.3 Checking if the Primary Key is duplicated\n",
    "6.4 Export the new table"
   ]
  },
  {
   "cell_type": "code",
   "execution_count": 32,
   "id": "3a047a49",
   "metadata": {},
   "outputs": [],
   "source": [
    "raw_path = '../../data/raw/'\n",
    "df_olist_orders_dataset = pd.read_csv(os.path.join(raw_path, 'olist_orders_dataset.csv'))"
   ]
  },
  {
   "cell_type": "code",
   "execution_count": 33,
   "id": "7c6f511b",
   "metadata": {},
   "outputs": [
    {
     "name": "stdout",
     "output_type": "stream",
     "text": [
      "<class 'pandas.core.frame.DataFrame'>\n",
      "RangeIndex: 99441 entries, 0 to 99440\n",
      "Data columns (total 8 columns):\n",
      " #   Column                         Non-Null Count  Dtype \n",
      "---  ------                         --------------  ----- \n",
      " 0   order_id                       99441 non-null  object\n",
      " 1   customer_id                    99441 non-null  object\n",
      " 2   order_status                   99441 non-null  object\n",
      " 3   order_purchase_timestamp       99441 non-null  object\n",
      " 4   order_approved_at              99281 non-null  object\n",
      " 5   order_delivered_carrier_date   97658 non-null  object\n",
      " 6   order_delivered_customer_date  96476 non-null  object\n",
      " 7   order_estimated_delivery_date  99441 non-null  object\n",
      "dtypes: object(8)\n",
      "memory usage: 6.1+ MB\n"
     ]
    }
   ],
   "source": [
    "df_olist_orders_dataset.info()"
   ]
  },
  {
   "cell_type": "code",
   "execution_count": 34,
   "id": "23c596e8",
   "metadata": {},
   "outputs": [],
   "source": [
    "df_olist_orders_dataset['order_purchase_timestamp'] = pd.to_datetime(df_olist_orders_dataset['order_purchase_timestamp'], errors='coerce')\n",
    "df_olist_orders_dataset['order_approved_at'] = pd.to_datetime(df_olist_orders_dataset['order_approved_at'], errors='coerce')\n",
    "df_olist_orders_dataset['order_delivered_carrier_date'] = pd.to_datetime(df_olist_orders_dataset['order_delivered_carrier_date'], errors='coerce')\n",
    "df_olist_orders_dataset['order_delivered_customer_date'] = pd.to_datetime(df_olist_orders_dataset['order_delivered_customer_date'], errors='coerce')\n",
    "df_olist_orders_dataset['order_estimated_delivery_date'] = pd.to_datetime(df_olist_orders_dataset['order_estimated_delivery_date'], errors='coerce')"
   ]
  },
  {
   "cell_type": "code",
   "execution_count": 35,
   "id": "14f7a490",
   "metadata": {},
   "outputs": [
    {
     "name": "stdout",
     "output_type": "stream",
     "text": [
      "<class 'pandas.core.frame.DataFrame'>\n",
      "RangeIndex: 99441 entries, 0 to 99440\n",
      "Data columns (total 8 columns):\n",
      " #   Column                         Non-Null Count  Dtype         \n",
      "---  ------                         --------------  -----         \n",
      " 0   order_id                       99441 non-null  object        \n",
      " 1   customer_id                    99441 non-null  object        \n",
      " 2   order_status                   99441 non-null  object        \n",
      " 3   order_purchase_timestamp       99441 non-null  datetime64[ns]\n",
      " 4   order_approved_at              99281 non-null  datetime64[ns]\n",
      " 5   order_delivered_carrier_date   97658 non-null  datetime64[ns]\n",
      " 6   order_delivered_customer_date  96476 non-null  datetime64[ns]\n",
      " 7   order_estimated_delivery_date  99441 non-null  datetime64[ns]\n",
      "dtypes: datetime64[ns](5), object(3)\n",
      "memory usage: 6.1+ MB\n"
     ]
    }
   ],
   "source": [
    "df_olist_orders_dataset.info()"
   ]
  },
  {
   "cell_type": "code",
   "execution_count": 36,
   "id": "970bd915",
   "metadata": {},
   "outputs": [
    {
     "data": {
      "text/plain": [
       "order_id                            0\n",
       "customer_id                         0\n",
       "order_status                        0\n",
       "order_purchase_timestamp            0\n",
       "order_approved_at                 160\n",
       "order_delivered_carrier_date     1783\n",
       "order_delivered_customer_date    2965\n",
       "order_estimated_delivery_date       0\n",
       "dtype: int64"
      ]
     },
     "execution_count": 36,
     "metadata": {},
     "output_type": "execute_result"
    }
   ],
   "source": [
    "df_olist_orders_dataset.isnull().sum()"
   ]
  },
  {
   "cell_type": "code",
   "execution_count": null,
   "id": "2fbc07f1",
   "metadata": {},
   "outputs": [],
   "source": [
    "\n",
    "df_olist_orders_dataset['approval_status'] = df_olist_orders_dataset.apply(\n",
    "    lambda row: 'not approved' if pd.isna(row['order_approved_at']) and pd.isna(row['order_delivered_carrier_date']) and pd.isna(row['order_delivered_customer_date'])\n",
    "    else 'approved',\n",
    "    axis=1\n",
    ")\n",
    "\n",
    "\n",
    "df_olist_orders_dataset['carrier_status'] = df_olist_orders_dataset.apply(\n",
    "    lambda row: 'not carried' if pd.isna(row['order_delivered_carrier_date']) and pd.isna(row['order_delivered_customer_date'])\n",
    "    else ('dispatched' if pd.isna(row['order_delivered_carrier_date']) and not pd.isna(row['order_delivered_customer_date']) else 'carried'),\n",
    "    axis=1\n",
    ")\n",
    "\n",
    "\n",
    "df_olist_orders_dataset['delivered_status'] = df_olist_orders_dataset['order_delivered_customer_date'].apply(\n",
    "    lambda x: 'not delivered' if pd.isna(x) else 'delivered'\n",
    ")"
   ]
  },
  {
   "cell_type": "code",
   "execution_count": 38,
   "id": "520dbb40",
   "metadata": {},
   "outputs": [
    {
     "data": {
      "text/plain": [
       "order_id                            0\n",
       "customer_id                         0\n",
       "order_status                        0\n",
       "order_purchase_timestamp            0\n",
       "order_approved_at                 160\n",
       "order_delivered_carrier_date     1783\n",
       "order_delivered_customer_date    2965\n",
       "order_estimated_delivery_date       0\n",
       "approval_status                     0\n",
       "carrier_status                      0\n",
       "delivered_status                    0\n",
       "dtype: int64"
      ]
     },
     "execution_count": 38,
     "metadata": {},
     "output_type": "execute_result"
    }
   ],
   "source": [
    "df_olist_orders_dataset.isnull().sum()"
   ]
  },
  {
   "cell_type": "code",
   "execution_count": 39,
   "id": "02fe68c1",
   "metadata": {},
   "outputs": [
    {
     "name": "stderr",
     "output_type": "stream",
     "text": [
      "C:\\Users\\lpraz\\AppData\\Local\\Temp\\ipykernel_3640\\226129217.py:1: FutureWarning: A value is trying to be set on a copy of a DataFrame or Series through chained assignment using an inplace method.\n",
      "The behavior will change in pandas 3.0. This inplace method will never work because the intermediate object on which we are setting values always behaves as a copy.\n",
      "\n",
      "For example, when doing 'df[col].method(value, inplace=True)', try using 'df.method({col: value}, inplace=True)' or df[col] = df[col].method(value) instead, to perform the operation inplace on the original object.\n",
      "\n",
      "\n",
      "  df_olist_orders_dataset['order_approved_at'].fillna(pd.to_datetime('1900-01-01'), inplace=True)\n",
      "C:\\Users\\lpraz\\AppData\\Local\\Temp\\ipykernel_3640\\226129217.py:2: FutureWarning: A value is trying to be set on a copy of a DataFrame or Series through chained assignment using an inplace method.\n",
      "The behavior will change in pandas 3.0. This inplace method will never work because the intermediate object on which we are setting values always behaves as a copy.\n",
      "\n",
      "For example, when doing 'df[col].method(value, inplace=True)', try using 'df.method({col: value}, inplace=True)' or df[col] = df[col].method(value) instead, to perform the operation inplace on the original object.\n",
      "\n",
      "\n",
      "  df_olist_orders_dataset['order_delivered_carrier_date'].fillna(pd.to_datetime('1900-01-01'), inplace=True)\n",
      "C:\\Users\\lpraz\\AppData\\Local\\Temp\\ipykernel_3640\\226129217.py:3: FutureWarning: A value is trying to be set on a copy of a DataFrame or Series through chained assignment using an inplace method.\n",
      "The behavior will change in pandas 3.0. This inplace method will never work because the intermediate object on which we are setting values always behaves as a copy.\n",
      "\n",
      "For example, when doing 'df[col].method(value, inplace=True)', try using 'df.method({col: value}, inplace=True)' or df[col] = df[col].method(value) instead, to perform the operation inplace on the original object.\n",
      "\n",
      "\n",
      "  df_olist_orders_dataset['order_delivered_customer_date'].fillna(pd.to_datetime('1900-01-01'), inplace=True)\n"
     ]
    }
   ],
   "source": [
    "df_olist_orders_dataset['order_approved_at'].fillna(pd.to_datetime('1900-01-01'), inplace=True)\n",
    "df_olist_orders_dataset['order_delivered_carrier_date'].fillna(pd.to_datetime('1900-01-01'), inplace=True)\n",
    "df_olist_orders_dataset['order_delivered_customer_date'].fillna(pd.to_datetime('1900-01-01'), inplace=True)"
   ]
  },
  {
   "cell_type": "code",
   "execution_count": 40,
   "id": "49224316",
   "metadata": {},
   "outputs": [
    {
     "data": {
      "text/plain": [
       "order_id                         0\n",
       "customer_id                      0\n",
       "order_status                     0\n",
       "order_purchase_timestamp         0\n",
       "order_approved_at                0\n",
       "order_delivered_carrier_date     0\n",
       "order_delivered_customer_date    0\n",
       "order_estimated_delivery_date    0\n",
       "approval_status                  0\n",
       "carrier_status                   0\n",
       "delivered_status                 0\n",
       "dtype: int64"
      ]
     },
     "execution_count": 40,
     "metadata": {},
     "output_type": "execute_result"
    }
   ],
   "source": [
    "df_olist_orders_dataset.isnull().sum()"
   ]
  },
  {
   "cell_type": "code",
   "execution_count": 41,
   "id": "9566b7a1",
   "metadata": {},
   "outputs": [
    {
     "data": {
      "text/html": [
       "<div>\n",
       "<style scoped>\n",
       "    .dataframe tbody tr th:only-of-type {\n",
       "        vertical-align: middle;\n",
       "    }\n",
       "\n",
       "    .dataframe tbody tr th {\n",
       "        vertical-align: top;\n",
       "    }\n",
       "\n",
       "    .dataframe thead th {\n",
       "        text-align: right;\n",
       "    }\n",
       "</style>\n",
       "<table border=\"1\" class=\"dataframe\">\n",
       "  <thead>\n",
       "    <tr style=\"text-align: right;\">\n",
       "      <th></th>\n",
       "      <th>order_id</th>\n",
       "      <th>customer_id</th>\n",
       "      <th>order_status</th>\n",
       "      <th>order_purchase_timestamp</th>\n",
       "      <th>order_approved_at</th>\n",
       "      <th>order_delivered_carrier_date</th>\n",
       "      <th>order_delivered_customer_date</th>\n",
       "      <th>order_estimated_delivery_date</th>\n",
       "      <th>approval_status</th>\n",
       "      <th>carrier_status</th>\n",
       "      <th>delivered_status</th>\n",
       "    </tr>\n",
       "  </thead>\n",
       "  <tbody>\n",
       "  </tbody>\n",
       "</table>\n",
       "</div>"
      ],
      "text/plain": [
       "Empty DataFrame\n",
       "Columns: [order_id, customer_id, order_status, order_purchase_timestamp, order_approved_at, order_delivered_carrier_date, order_delivered_customer_date, order_estimated_delivery_date, approval_status, carrier_status, delivered_status]\n",
       "Index: []"
      ]
     },
     "execution_count": 41,
     "metadata": {},
     "output_type": "execute_result"
    }
   ],
   "source": [
    "df_olist_orders_dataset[df_olist_orders_dataset.duplicated(subset=['order_id'], keep=False)]"
   ]
  },
  {
   "cell_type": "code",
   "execution_count": 42,
   "id": "b1ddf106",
   "metadata": {},
   "outputs": [
    {
     "data": {
      "text/plain": [
       "order_id                         99441\n",
       "customer_id                      99441\n",
       "order_status                         8\n",
       "order_purchase_timestamp         98875\n",
       "order_approved_at                90734\n",
       "order_delivered_carrier_date     81019\n",
       "order_delivered_customer_date    95665\n",
       "order_estimated_delivery_date      459\n",
       "approval_status                      2\n",
       "carrier_status                       3\n",
       "delivered_status                     2\n",
       "dtype: int64"
      ]
     },
     "execution_count": 42,
     "metadata": {},
     "output_type": "execute_result"
    }
   ],
   "source": [
    "df_olist_orders_dataset.nunique()"
   ]
  },
  {
   "cell_type": "code",
   "execution_count": 97,
   "id": "7d1187e7",
   "metadata": {},
   "outputs": [],
   "source": [
    "output_path = '../../data/processed/df_olist_orders_dataset.csv'\n",
    "df_olist_orders_dataset.to_csv(output_path, index=False)"
   ]
  },
  {
   "cell_type": "code",
   "execution_count": 66,
   "id": "bb2fa126",
   "metadata": {},
   "outputs": [],
   "source": [
    "output_path_ready = '../../data/ready/df_olist_orders_dataset.csv'\n",
    "df_olist_orders_dataset.to_csv(output_path_ready, index=False)"
   ]
  },
  {
   "cell_type": "markdown",
   "id": "25636179",
   "metadata": {},
   "source": [
    "7. Cleaning the table olist_orders_dataset\n",
    "7.1 Checking general status, datetime\n",
    "7.2 Checking null values\n",
    "7.3 Checking if the Primary Key is duplicated\n",
    "7.4 Export the new table"
   ]
  },
  {
   "cell_type": "code",
   "execution_count": 43,
   "id": "b3b9c605",
   "metadata": {},
   "outputs": [],
   "source": [
    "raw_path = '../../data/raw/'\n",
    "df_olist_products_dataset = pd.read_csv(os.path.join(raw_path, 'olist_products_dataset.csv'))"
   ]
  },
  {
   "cell_type": "code",
   "execution_count": 44,
   "id": "58216fc0",
   "metadata": {},
   "outputs": [
    {
     "name": "stdout",
     "output_type": "stream",
     "text": [
      "<class 'pandas.core.frame.DataFrame'>\n",
      "RangeIndex: 32951 entries, 0 to 32950\n",
      "Data columns (total 9 columns):\n",
      " #   Column                      Non-Null Count  Dtype  \n",
      "---  ------                      --------------  -----  \n",
      " 0   product_id                  32951 non-null  object \n",
      " 1   product_category_name       32341 non-null  object \n",
      " 2   product_name_lenght         32341 non-null  float64\n",
      " 3   product_description_lenght  32341 non-null  float64\n",
      " 4   product_photos_qty          32341 non-null  float64\n",
      " 5   product_weight_g            32949 non-null  float64\n",
      " 6   product_length_cm           32949 non-null  float64\n",
      " 7   product_height_cm           32949 non-null  float64\n",
      " 8   product_width_cm            32949 non-null  float64\n",
      "dtypes: float64(7), object(2)\n",
      "memory usage: 2.3+ MB\n"
     ]
    }
   ],
   "source": [
    "df_olist_products_dataset.info()"
   ]
  },
  {
   "cell_type": "code",
   "execution_count": 45,
   "id": "02c5a48c",
   "metadata": {},
   "outputs": [
    {
     "data": {
      "text/plain": [
       "product_id                      0\n",
       "product_category_name         610\n",
       "product_name_lenght           610\n",
       "product_description_lenght    610\n",
       "product_photos_qty            610\n",
       "product_weight_g                2\n",
       "product_length_cm               2\n",
       "product_height_cm               2\n",
       "product_width_cm                2\n",
       "dtype: int64"
      ]
     },
     "execution_count": 45,
     "metadata": {},
     "output_type": "execute_result"
    }
   ],
   "source": [
    "df_olist_products_dataset.isnull().sum()"
   ]
  },
  {
   "cell_type": "code",
   "execution_count": 46,
   "id": "20919cfa",
   "metadata": {},
   "outputs": [],
   "source": [
    "df_olist_products_dataset['categorized_status'] = np.where(\n",
    "    df_olist_products_dataset[['product_category_name', 'product_name_lenght', 'product_description_lenght', 'product_photos_qty']].isnull().any(axis=1),\n",
    "    'not categorized',\n",
    "    'categorized'\n",
    ")"
   ]
  },
  {
   "cell_type": "code",
   "execution_count": null,
   "id": "7df5d3b9",
   "metadata": {},
   "outputs": [
    {
     "name": "stderr",
     "output_type": "stream",
     "text": [
      "C:\\Users\\lpraz\\AppData\\Local\\Temp\\ipykernel_3640\\3404328771.py:2: FutureWarning: A value is trying to be set on a copy of a DataFrame or Series through chained assignment using an inplace method.\n",
      "The behavior will change in pandas 3.0. This inplace method will never work because the intermediate object on which we are setting values always behaves as a copy.\n",
      "\n",
      "For example, when doing 'df[col].method(value, inplace=True)', try using 'df.method({col: value}, inplace=True)' or df[col] = df[col].method(value) instead, to perform the operation inplace on the original object.\n",
      "\n",
      "\n",
      "  df_olist_products_dataset['product_name_lenght'].fillna(df_olist_products_dataset['product_name_lenght'].median(), inplace=True)\n",
      "C:\\Users\\lpraz\\AppData\\Local\\Temp\\ipykernel_3640\\3404328771.py:3: FutureWarning: A value is trying to be set on a copy of a DataFrame or Series through chained assignment using an inplace method.\n",
      "The behavior will change in pandas 3.0. This inplace method will never work because the intermediate object on which we are setting values always behaves as a copy.\n",
      "\n",
      "For example, when doing 'df[col].method(value, inplace=True)', try using 'df.method({col: value}, inplace=True)' or df[col] = df[col].method(value) instead, to perform the operation inplace on the original object.\n",
      "\n",
      "\n",
      "  df_olist_products_dataset['product_description_lenght'].fillna(df_olist_products_dataset['product_description_lenght'].median(), inplace=True)\n",
      "C:\\Users\\lpraz\\AppData\\Local\\Temp\\ipykernel_3640\\3404328771.py:4: FutureWarning: A value is trying to be set on a copy of a DataFrame or Series through chained assignment using an inplace method.\n",
      "The behavior will change in pandas 3.0. This inplace method will never work because the intermediate object on which we are setting values always behaves as a copy.\n",
      "\n",
      "For example, when doing 'df[col].method(value, inplace=True)', try using 'df.method({col: value}, inplace=True)' or df[col] = df[col].method(value) instead, to perform the operation inplace on the original object.\n",
      "\n",
      "\n",
      "  df_olist_products_dataset['product_photos_qty'].fillna(df_olist_products_dataset['product_photos_qty'].median(), inplace=True)\n",
      "C:\\Users\\lpraz\\AppData\\Local\\Temp\\ipykernel_3640\\3404328771.py:7: FutureWarning: A value is trying to be set on a copy of a DataFrame or Series through chained assignment using an inplace method.\n",
      "The behavior will change in pandas 3.0. This inplace method will never work because the intermediate object on which we are setting values always behaves as a copy.\n",
      "\n",
      "For example, when doing 'df[col].method(value, inplace=True)', try using 'df.method({col: value}, inplace=True)' or df[col] = df[col].method(value) instead, to perform the operation inplace on the original object.\n",
      "\n",
      "\n",
      "  df_olist_products_dataset['product_category_name'].fillna('not categorized', inplace=True)\n"
     ]
    }
   ],
   "source": [
    "\n",
    "df_olist_products_dataset['product_name_lenght'].fillna(df_olist_products_dataset['product_name_lenght'].median(), inplace=True)\n",
    "df_olist_products_dataset['product_description_lenght'].fillna(df_olist_products_dataset['product_description_lenght'].median(), inplace=True)\n",
    "df_olist_products_dataset['product_photos_qty'].fillna(df_olist_products_dataset['product_photos_qty'].median(), inplace=True)\n",
    "\n",
    "\n",
    "df_olist_products_dataset['product_category_name'].fillna('not categorized', inplace=True)"
   ]
  },
  {
   "cell_type": "code",
   "execution_count": 48,
   "id": "e212a49d",
   "metadata": {},
   "outputs": [],
   "source": [
    "df_olist_products_dataset.dropna(subset=[\n",
    "    'product_weight_g', \n",
    "    'product_length_cm', \n",
    "    'product_height_cm', \n",
    "    'product_width_cm'\n",
    "], inplace=True)"
   ]
  },
  {
   "cell_type": "code",
   "execution_count": 49,
   "id": "904eb092",
   "metadata": {},
   "outputs": [],
   "source": [
    "df_olist_products_dataset.reset_index(drop=True, inplace=True)"
   ]
  },
  {
   "cell_type": "code",
   "execution_count": 50,
   "id": "7d7b1eba",
   "metadata": {},
   "outputs": [
    {
     "data": {
      "text/plain": [
       "product_id                    32949\n",
       "product_category_name            74\n",
       "product_name_lenght              66\n",
       "product_description_lenght     2960\n",
       "product_photos_qty               19\n",
       "product_weight_g               2204\n",
       "product_length_cm                99\n",
       "product_height_cm               102\n",
       "product_width_cm                 95\n",
       "categorized_status                2\n",
       "dtype: int64"
      ]
     },
     "execution_count": 50,
     "metadata": {},
     "output_type": "execute_result"
    }
   ],
   "source": [
    "df_olist_products_dataset.nunique()"
   ]
  },
  {
   "cell_type": "code",
   "execution_count": 51,
   "id": "5f5d7e9a",
   "metadata": {},
   "outputs": [
    {
     "data": {
      "text/html": [
       "<div>\n",
       "<style scoped>\n",
       "    .dataframe tbody tr th:only-of-type {\n",
       "        vertical-align: middle;\n",
       "    }\n",
       "\n",
       "    .dataframe tbody tr th {\n",
       "        vertical-align: top;\n",
       "    }\n",
       "\n",
       "    .dataframe thead th {\n",
       "        text-align: right;\n",
       "    }\n",
       "</style>\n",
       "<table border=\"1\" class=\"dataframe\">\n",
       "  <thead>\n",
       "    <tr style=\"text-align: right;\">\n",
       "      <th></th>\n",
       "      <th>product_id</th>\n",
       "      <th>product_category_name</th>\n",
       "      <th>product_name_lenght</th>\n",
       "      <th>product_description_lenght</th>\n",
       "      <th>product_photos_qty</th>\n",
       "      <th>product_weight_g</th>\n",
       "      <th>product_length_cm</th>\n",
       "      <th>product_height_cm</th>\n",
       "      <th>product_width_cm</th>\n",
       "      <th>categorized_status</th>\n",
       "    </tr>\n",
       "  </thead>\n",
       "  <tbody>\n",
       "  </tbody>\n",
       "</table>\n",
       "</div>"
      ],
      "text/plain": [
       "Empty DataFrame\n",
       "Columns: [product_id, product_category_name, product_name_lenght, product_description_lenght, product_photos_qty, product_weight_g, product_length_cm, product_height_cm, product_width_cm, categorized_status]\n",
       "Index: []"
      ]
     },
     "execution_count": 51,
     "metadata": {},
     "output_type": "execute_result"
    }
   ],
   "source": [
    "df_olist_products_dataset[df_olist_products_dataset.duplicated(subset=['product_id'], keep=False)]"
   ]
  },
  {
   "cell_type": "code",
   "execution_count": 139,
   "id": "3a17edeb",
   "metadata": {},
   "outputs": [],
   "source": [
    "output_path = '../../data/processed/df_olist_products_dataset.csv'\n",
    "df_olist_products_dataset.to_csv(output_path, index=False)"
   ]
  },
  {
   "cell_type": "code",
   "execution_count": 67,
   "id": "3f002f8a",
   "metadata": {},
   "outputs": [],
   "source": [
    "output_path_ready = '../../data/ready/df_olist_products_dataset.csv'\n",
    "df_olist_products_dataset.to_csv(output_path_ready, index=False)"
   ]
  },
  {
   "cell_type": "markdown",
   "id": "ea02fadc",
   "metadata": {},
   "source": [
    "8. Cleaning the table olist_orders_dataset\n",
    "8.1 Checking general status, datetime\n",
    "8.2 Checking null values\n",
    "8.3 Checking if the Primary Key is duplicated"
   ]
  },
  {
   "cell_type": "code",
   "execution_count": 52,
   "id": "5a662bcf",
   "metadata": {},
   "outputs": [],
   "source": [
    "raw_path = '../../data/raw/'\n",
    "df_olist_sellers_dataset = pd.read_csv(os.path.join(raw_path, 'olist_sellers_dataset.csv'))"
   ]
  },
  {
   "cell_type": "code",
   "execution_count": 53,
   "id": "01cbeb1d",
   "metadata": {},
   "outputs": [
    {
     "name": "stdout",
     "output_type": "stream",
     "text": [
      "<class 'pandas.core.frame.DataFrame'>\n",
      "RangeIndex: 3095 entries, 0 to 3094\n",
      "Data columns (total 4 columns):\n",
      " #   Column                  Non-Null Count  Dtype \n",
      "---  ------                  --------------  ----- \n",
      " 0   seller_id               3095 non-null   object\n",
      " 1   seller_zip_code_prefix  3095 non-null   int64 \n",
      " 2   seller_city             3095 non-null   object\n",
      " 3   seller_state            3095 non-null   object\n",
      "dtypes: int64(1), object(3)\n",
      "memory usage: 96.8+ KB\n"
     ]
    }
   ],
   "source": [
    "df_olist_sellers_dataset.info()"
   ]
  },
  {
   "cell_type": "code",
   "execution_count": 54,
   "id": "a4fbc790",
   "metadata": {},
   "outputs": [
    {
     "data": {
      "text/plain": [
       "seller_id                 0\n",
       "seller_zip_code_prefix    0\n",
       "seller_city               0\n",
       "seller_state              0\n",
       "dtype: int64"
      ]
     },
     "execution_count": 54,
     "metadata": {},
     "output_type": "execute_result"
    }
   ],
   "source": [
    "df_olist_sellers_dataset.isnull().sum()"
   ]
  },
  {
   "cell_type": "code",
   "execution_count": 55,
   "id": "2b7e9f03",
   "metadata": {},
   "outputs": [
    {
     "data": {
      "text/plain": [
       "seller_id                 3095\n",
       "seller_zip_code_prefix    2246\n",
       "seller_city                611\n",
       "seller_state                23\n",
       "dtype: int64"
      ]
     },
     "execution_count": 55,
     "metadata": {},
     "output_type": "execute_result"
    }
   ],
   "source": [
    "df_olist_sellers_dataset.nunique()"
   ]
  },
  {
   "cell_type": "code",
   "execution_count": 68,
   "id": "55543c8c",
   "metadata": {},
   "outputs": [],
   "source": [
    "output_path_ready = '../../data/ready/df_olist_sellers_dataset.csv'\n",
    "df_olist_sellers_dataset.to_csv(output_path_ready, index=False)"
   ]
  },
  {
   "cell_type": "markdown",
   "id": "d945f738",
   "metadata": {},
   "source": [
    "9. Cleaning the table olist_orders_dataset\n",
    "9.1 Checking general status, datetime\n",
    "9.2 Checking null values\n",
    "9.3 Checking if the Primary Key is duplicated"
   ]
  },
  {
   "cell_type": "code",
   "execution_count": 56,
   "id": "e74e0897",
   "metadata": {},
   "outputs": [],
   "source": [
    "raw_path = '../../data/raw/'\n",
    "df_product_category_name_translation = pd.read_csv(os.path.join(raw_path, 'product_category_name_translation.csv'))"
   ]
  },
  {
   "cell_type": "code",
   "execution_count": 57,
   "id": "51c707c9",
   "metadata": {},
   "outputs": [
    {
     "name": "stdout",
     "output_type": "stream",
     "text": [
      "<class 'pandas.core.frame.DataFrame'>\n",
      "RangeIndex: 71 entries, 0 to 70\n",
      "Data columns (total 2 columns):\n",
      " #   Column                         Non-Null Count  Dtype \n",
      "---  ------                         --------------  ----- \n",
      " 0   product_category_name          71 non-null     object\n",
      " 1   product_category_name_english  71 non-null     object\n",
      "dtypes: object(2)\n",
      "memory usage: 1.2+ KB\n"
     ]
    }
   ],
   "source": [
    "df_product_category_name_translation.info()"
   ]
  },
  {
   "cell_type": "code",
   "execution_count": 58,
   "id": "c4e0e1cb",
   "metadata": {},
   "outputs": [
    {
     "data": {
      "text/plain": [
       "product_category_name            0\n",
       "product_category_name_english    0\n",
       "dtype: int64"
      ]
     },
     "execution_count": 58,
     "metadata": {},
     "output_type": "execute_result"
    }
   ],
   "source": [
    "df_product_category_name_translation.isnull().sum()"
   ]
  },
  {
   "cell_type": "code",
   "execution_count": 59,
   "id": "44a4c789",
   "metadata": {},
   "outputs": [
    {
     "data": {
      "text/plain": [
       "product_category_name            71\n",
       "product_category_name_english    71\n",
       "dtype: int64"
      ]
     },
     "execution_count": 59,
     "metadata": {},
     "output_type": "execute_result"
    }
   ],
   "source": [
    "df_product_category_name_translation.nunique()"
   ]
  },
  {
   "cell_type": "code",
   "execution_count": 69,
   "id": "9e4c4785",
   "metadata": {},
   "outputs": [],
   "source": [
    "output_path_ready = '../../data/ready/df_product_category_name_translation.csv'\n",
    "df_product_category_name_translation.to_csv(output_path_ready, index=False)"
   ]
  }
 ],
 "metadata": {
  "kernelspec": {
   "display_name": "Python 3",
   "language": "python",
   "name": "python3"
  },
  "language_info": {
   "codemirror_mode": {
    "name": "ipython",
    "version": 3
   },
   "file_extension": ".py",
   "mimetype": "text/x-python",
   "name": "python",
   "nbconvert_exporter": "python",
   "pygments_lexer": "ipython3",
   "version": "3.13.2"
  }
 },
 "nbformat": 4,
 "nbformat_minor": 5
}
